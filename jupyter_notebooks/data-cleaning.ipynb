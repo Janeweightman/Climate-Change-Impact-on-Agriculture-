{
 "cells": [
  {
   "cell_type": "markdown",
   "id": "d8b60966",
   "metadata": {},
   "source": [
    "# Data Cleaning"
   ]
  },
  {
   "cell_type": "markdown",
   "id": "d7c21e21",
   "metadata": {},
   "source": [
    "### Import libraries"
   ]
  },
  {
   "cell_type": "code",
   "execution_count": 42,
   "id": "44e60643",
   "metadata": {},
   "outputs": [],
   "source": [
    "import pandas as pd\n",
    "import numpy as np"
   ]
  },
  {
   "cell_type": "markdown",
   "id": "6283db3b",
   "metadata": {},
   "source": [
    "### Load the raw data ready for cleaning"
   ]
  },
  {
   "cell_type": "code",
   "execution_count": 43,
   "id": "35156ca1",
   "metadata": {},
   "outputs": [
    {
     "data": {
      "text/html": [
       "<div>\n",
       "<style scoped>\n",
       "    .dataframe tbody tr th:only-of-type {\n",
       "        vertical-align: middle;\n",
       "    }\n",
       "\n",
       "    .dataframe tbody tr th {\n",
       "        vertical-align: top;\n",
       "    }\n",
       "\n",
       "    .dataframe thead th {\n",
       "        text-align: right;\n",
       "    }\n",
       "</style>\n",
       "<table border=\"1\" class=\"dataframe\">\n",
       "  <thead>\n",
       "    <tr style=\"text-align: right;\">\n",
       "      <th></th>\n",
       "      <th>Year</th>\n",
       "      <th>Country</th>\n",
       "      <th>Region</th>\n",
       "      <th>Crop_Type</th>\n",
       "      <th>Average_Temperature_C</th>\n",
       "      <th>Total_Precipitation_mm</th>\n",
       "      <th>CO2_Emissions_MT</th>\n",
       "      <th>Crop_Yield_MT_per_HA</th>\n",
       "      <th>Extreme_Weather_Events</th>\n",
       "      <th>Irrigation_Access_%</th>\n",
       "      <th>Pesticide_Use_KG_per_HA</th>\n",
       "      <th>Fertilizer_Use_KG_per_HA</th>\n",
       "      <th>Soil_Health_Index</th>\n",
       "      <th>Adaptation_Strategies</th>\n",
       "      <th>Economic_Impact_Million_USD</th>\n",
       "    </tr>\n",
       "  </thead>\n",
       "  <tbody>\n",
       "    <tr>\n",
       "      <th>0</th>\n",
       "      <td>2001</td>\n",
       "      <td>India</td>\n",
       "      <td>West Bengal</td>\n",
       "      <td>Corn</td>\n",
       "      <td>1.55</td>\n",
       "      <td>447.06</td>\n",
       "      <td>15.22</td>\n",
       "      <td>1.737</td>\n",
       "      <td>8</td>\n",
       "      <td>14.54</td>\n",
       "      <td>10.08</td>\n",
       "      <td>14.78</td>\n",
       "      <td>83.25</td>\n",
       "      <td>Water Management</td>\n",
       "      <td>808.13</td>\n",
       "    </tr>\n",
       "    <tr>\n",
       "      <th>1</th>\n",
       "      <td>2024</td>\n",
       "      <td>China</td>\n",
       "      <td>North</td>\n",
       "      <td>Corn</td>\n",
       "      <td>3.23</td>\n",
       "      <td>2913.57</td>\n",
       "      <td>29.82</td>\n",
       "      <td>1.737</td>\n",
       "      <td>8</td>\n",
       "      <td>11.05</td>\n",
       "      <td>33.06</td>\n",
       "      <td>23.25</td>\n",
       "      <td>54.02</td>\n",
       "      <td>Crop Rotation</td>\n",
       "      <td>616.22</td>\n",
       "    </tr>\n",
       "    <tr>\n",
       "      <th>2</th>\n",
       "      <td>2001</td>\n",
       "      <td>France</td>\n",
       "      <td>Ile-de-France</td>\n",
       "      <td>Wheat</td>\n",
       "      <td>21.11</td>\n",
       "      <td>1301.74</td>\n",
       "      <td>25.75</td>\n",
       "      <td>1.719</td>\n",
       "      <td>5</td>\n",
       "      <td>84.42</td>\n",
       "      <td>27.41</td>\n",
       "      <td>65.53</td>\n",
       "      <td>67.78</td>\n",
       "      <td>Water Management</td>\n",
       "      <td>796.96</td>\n",
       "    </tr>\n",
       "    <tr>\n",
       "      <th>3</th>\n",
       "      <td>2001</td>\n",
       "      <td>Canada</td>\n",
       "      <td>Prairies</td>\n",
       "      <td>Coffee</td>\n",
       "      <td>27.85</td>\n",
       "      <td>1154.36</td>\n",
       "      <td>13.91</td>\n",
       "      <td>3.890</td>\n",
       "      <td>5</td>\n",
       "      <td>94.06</td>\n",
       "      <td>14.38</td>\n",
       "      <td>87.58</td>\n",
       "      <td>91.39</td>\n",
       "      <td>No Adaptation</td>\n",
       "      <td>790.32</td>\n",
       "    </tr>\n",
       "    <tr>\n",
       "      <th>4</th>\n",
       "      <td>1998</td>\n",
       "      <td>India</td>\n",
       "      <td>Tamil Nadu</td>\n",
       "      <td>Sugarcane</td>\n",
       "      <td>2.19</td>\n",
       "      <td>1627.48</td>\n",
       "      <td>11.81</td>\n",
       "      <td>1.080</td>\n",
       "      <td>9</td>\n",
       "      <td>95.75</td>\n",
       "      <td>44.35</td>\n",
       "      <td>88.08</td>\n",
       "      <td>49.61</td>\n",
       "      <td>Crop Rotation</td>\n",
       "      <td>401.72</td>\n",
       "    </tr>\n",
       "  </tbody>\n",
       "</table>\n",
       "</div>"
      ],
      "text/plain": [
       "   Year Country         Region  Crop_Type  Average_Temperature_C  \\\n",
       "0  2001   India    West Bengal       Corn                   1.55   \n",
       "1  2024   China          North       Corn                   3.23   \n",
       "2  2001  France  Ile-de-France      Wheat                  21.11   \n",
       "3  2001  Canada       Prairies     Coffee                  27.85   \n",
       "4  1998   India     Tamil Nadu  Sugarcane                   2.19   \n",
       "\n",
       "   Total_Precipitation_mm  CO2_Emissions_MT  Crop_Yield_MT_per_HA  \\\n",
       "0                  447.06             15.22                 1.737   \n",
       "1                 2913.57             29.82                 1.737   \n",
       "2                 1301.74             25.75                 1.719   \n",
       "3                 1154.36             13.91                 3.890   \n",
       "4                 1627.48             11.81                 1.080   \n",
       "\n",
       "   Extreme_Weather_Events  Irrigation_Access_%  Pesticide_Use_KG_per_HA  \\\n",
       "0                       8                14.54                    10.08   \n",
       "1                       8                11.05                    33.06   \n",
       "2                       5                84.42                    27.41   \n",
       "3                       5                94.06                    14.38   \n",
       "4                       9                95.75                    44.35   \n",
       "\n",
       "   Fertilizer_Use_KG_per_HA  Soil_Health_Index Adaptation_Strategies  \\\n",
       "0                     14.78              83.25      Water Management   \n",
       "1                     23.25              54.02         Crop Rotation   \n",
       "2                     65.53              67.78      Water Management   \n",
       "3                     87.58              91.39         No Adaptation   \n",
       "4                     88.08              49.61         Crop Rotation   \n",
       "\n",
       "   Economic_Impact_Million_USD  \n",
       "0                       808.13  \n",
       "1                       616.22  \n",
       "2                       796.96  \n",
       "3                       790.32  \n",
       "4                       401.72  "
      ]
     },
     "execution_count": 43,
     "metadata": {},
     "output_type": "execute_result"
    }
   ],
   "source": [
    "df = pd.read_csv('../data/climate-agriculture.csv')\n",
    "df.head()"
   ]
  },
  {
   "cell_type": "markdown",
   "id": "1f912929",
   "metadata": {},
   "source": [
    "### Check the shape of the data"
   ]
  },
  {
   "cell_type": "code",
   "execution_count": 44,
   "id": "df4e21ef",
   "metadata": {},
   "outputs": [
    {
     "data": {
      "text/plain": [
       "(10000, 15)"
      ]
     },
     "execution_count": 44,
     "metadata": {},
     "output_type": "execute_result"
    }
   ],
   "source": [
    "df.shape"
   ]
  },
  {
   "cell_type": "markdown",
   "id": "5130ba9e",
   "metadata": {},
   "source": [
    "As we can see there are 10,000 rows and 15 columns, this might be small enough to not encounter any problems, however to be safe I will sample to 9000 rows."
   ]
  },
  {
   "cell_type": "code",
   "execution_count": 45,
   "id": "8debc2eb",
   "metadata": {},
   "outputs": [],
   "source": [
    "df = df.sample(n=9000, random_state=42)"
   ]
  },
  {
   "cell_type": "markdown",
   "id": "f5a912de",
   "metadata": {},
   "source": [
    "#### Checking the shape again to confirm the sampling"
   ]
  },
  {
   "cell_type": "code",
   "execution_count": 46,
   "id": "b55f9a5a",
   "metadata": {},
   "outputs": [
    {
     "data": {
      "text/plain": [
       "(9000, 15)"
      ]
     },
     "execution_count": 46,
     "metadata": {},
     "output_type": "execute_result"
    }
   ],
   "source": [
    "df.shape"
   ]
  },
  {
   "cell_type": "markdown",
   "id": "d26f2c2e",
   "metadata": {},
   "source": [
    "The data has been successfully sampled. "
   ]
  },
  {
   "cell_type": "markdown",
   "id": "442ad7cc",
   "metadata": {},
   "source": [
    "### Checking the the data set again "
   ]
  },
  {
   "cell_type": "code",
   "execution_count": 47,
   "id": "75867852",
   "metadata": {},
   "outputs": [
    {
     "data": {
      "text/html": [
       "<div>\n",
       "<style scoped>\n",
       "    .dataframe tbody tr th:only-of-type {\n",
       "        vertical-align: middle;\n",
       "    }\n",
       "\n",
       "    .dataframe tbody tr th {\n",
       "        vertical-align: top;\n",
       "    }\n",
       "\n",
       "    .dataframe thead th {\n",
       "        text-align: right;\n",
       "    }\n",
       "</style>\n",
       "<table border=\"1\" class=\"dataframe\">\n",
       "  <thead>\n",
       "    <tr style=\"text-align: right;\">\n",
       "      <th></th>\n",
       "      <th>Year</th>\n",
       "      <th>Country</th>\n",
       "      <th>Region</th>\n",
       "      <th>Crop_Type</th>\n",
       "      <th>Average_Temperature_C</th>\n",
       "      <th>Total_Precipitation_mm</th>\n",
       "      <th>CO2_Emissions_MT</th>\n",
       "      <th>Crop_Yield_MT_per_HA</th>\n",
       "      <th>Extreme_Weather_Events</th>\n",
       "      <th>Irrigation_Access_%</th>\n",
       "      <th>Pesticide_Use_KG_per_HA</th>\n",
       "      <th>Fertilizer_Use_KG_per_HA</th>\n",
       "      <th>Soil_Health_Index</th>\n",
       "      <th>Adaptation_Strategies</th>\n",
       "      <th>Economic_Impact_Million_USD</th>\n",
       "    </tr>\n",
       "  </thead>\n",
       "  <tbody>\n",
       "    <tr>\n",
       "      <th>6252</th>\n",
       "      <td>2001</td>\n",
       "      <td>Brazil</td>\n",
       "      <td>Southeast</td>\n",
       "      <td>Rice</td>\n",
       "      <td>2.64</td>\n",
       "      <td>514.15</td>\n",
       "      <td>21.96</td>\n",
       "      <td>0.639</td>\n",
       "      <td>4</td>\n",
       "      <td>15.95</td>\n",
       "      <td>25.39</td>\n",
       "      <td>42.58</td>\n",
       "      <td>85.01</td>\n",
       "      <td>Drought-resistant Crops</td>\n",
       "      <td>116.07</td>\n",
       "    </tr>\n",
       "    <tr>\n",
       "      <th>4684</th>\n",
       "      <td>1995</td>\n",
       "      <td>India</td>\n",
       "      <td>Punjab</td>\n",
       "      <td>Vegetables</td>\n",
       "      <td>13.98</td>\n",
       "      <td>1940.83</td>\n",
       "      <td>6.11</td>\n",
       "      <td>4.100</td>\n",
       "      <td>6</td>\n",
       "      <td>74.79</td>\n",
       "      <td>33.24</td>\n",
       "      <td>74.95</td>\n",
       "      <td>96.05</td>\n",
       "      <td>Drought-resistant Crops</td>\n",
       "      <td>1026.14</td>\n",
       "    </tr>\n",
       "    <tr>\n",
       "      <th>1731</th>\n",
       "      <td>1996</td>\n",
       "      <td>Brazil</td>\n",
       "      <td>South</td>\n",
       "      <td>Rice</td>\n",
       "      <td>34.76</td>\n",
       "      <td>247.44</td>\n",
       "      <td>8.42</td>\n",
       "      <td>2.520</td>\n",
       "      <td>2</td>\n",
       "      <td>52.69</td>\n",
       "      <td>6.56</td>\n",
       "      <td>10.86</td>\n",
       "      <td>56.99</td>\n",
       "      <td>Water Management</td>\n",
       "      <td>837.28</td>\n",
       "    </tr>\n",
       "    <tr>\n",
       "      <th>4742</th>\n",
       "      <td>1994</td>\n",
       "      <td>China</td>\n",
       "      <td>Central</td>\n",
       "      <td>Corn</td>\n",
       "      <td>19.10</td>\n",
       "      <td>2042.70</td>\n",
       "      <td>4.88</td>\n",
       "      <td>1.520</td>\n",
       "      <td>8</td>\n",
       "      <td>93.98</td>\n",
       "      <td>42.48</td>\n",
       "      <td>52.78</td>\n",
       "      <td>65.33</td>\n",
       "      <td>No Adaptation</td>\n",
       "      <td>369.90</td>\n",
       "    </tr>\n",
       "    <tr>\n",
       "      <th>4521</th>\n",
       "      <td>2018</td>\n",
       "      <td>Nigeria</td>\n",
       "      <td>North Central</td>\n",
       "      <td>Vegetables</td>\n",
       "      <td>-2.34</td>\n",
       "      <td>2716.87</td>\n",
       "      <td>23.37</td>\n",
       "      <td>1.593</td>\n",
       "      <td>6</td>\n",
       "      <td>22.09</td>\n",
       "      <td>41.06</td>\n",
       "      <td>8.44</td>\n",
       "      <td>99.04</td>\n",
       "      <td>Drought-resistant Crops</td>\n",
       "      <td>555.35</td>\n",
       "    </tr>\n",
       "  </tbody>\n",
       "</table>\n",
       "</div>"
      ],
      "text/plain": [
       "      Year  Country         Region   Crop_Type  Average_Temperature_C  \\\n",
       "6252  2001   Brazil      Southeast        Rice                   2.64   \n",
       "4684  1995    India         Punjab  Vegetables                  13.98   \n",
       "1731  1996   Brazil          South        Rice                  34.76   \n",
       "4742  1994    China        Central        Corn                  19.10   \n",
       "4521  2018  Nigeria  North Central  Vegetables                  -2.34   \n",
       "\n",
       "      Total_Precipitation_mm  CO2_Emissions_MT  Crop_Yield_MT_per_HA  \\\n",
       "6252                  514.15             21.96                 0.639   \n",
       "4684                 1940.83              6.11                 4.100   \n",
       "1731                  247.44              8.42                 2.520   \n",
       "4742                 2042.70              4.88                 1.520   \n",
       "4521                 2716.87             23.37                 1.593   \n",
       "\n",
       "      Extreme_Weather_Events  Irrigation_Access_%  Pesticide_Use_KG_per_HA  \\\n",
       "6252                       4                15.95                    25.39   \n",
       "4684                       6                74.79                    33.24   \n",
       "1731                       2                52.69                     6.56   \n",
       "4742                       8                93.98                    42.48   \n",
       "4521                       6                22.09                    41.06   \n",
       "\n",
       "      Fertilizer_Use_KG_per_HA  Soil_Health_Index    Adaptation_Strategies  \\\n",
       "6252                     42.58              85.01  Drought-resistant Crops   \n",
       "4684                     74.95              96.05  Drought-resistant Crops   \n",
       "1731                     10.86              56.99         Water Management   \n",
       "4742                     52.78              65.33            No Adaptation   \n",
       "4521                      8.44              99.04  Drought-resistant Crops   \n",
       "\n",
       "      Economic_Impact_Million_USD  \n",
       "6252                       116.07  \n",
       "4684                      1026.14  \n",
       "1731                       837.28  \n",
       "4742                       369.90  \n",
       "4521                       555.35  "
      ]
     },
     "execution_count": 47,
     "metadata": {},
     "output_type": "execute_result"
    }
   ],
   "source": [
    "df.head()"
   ]
  },
  {
   "cell_type": "markdown",
   "id": "b65544e9",
   "metadata": {},
   "source": [
    "As we can see the index is not in the correct order."
   ]
  },
  {
   "cell_type": "markdown",
   "id": "b36225eb",
   "metadata": {},
   "source": [
    "### Reset the index"
   ]
  },
  {
   "cell_type": "code",
   "execution_count": 48,
   "id": "7fe52a36",
   "metadata": {},
   "outputs": [],
   "source": [
    "df.reset_index(drop=True, inplace=True)"
   ]
  },
  {
   "cell_type": "markdown",
   "id": "ce1e5ac0",
   "metadata": {},
   "source": [
    "#### Check to see if the index has been successfully reset"
   ]
  },
  {
   "cell_type": "code",
   "execution_count": 49,
   "id": "9b99754d",
   "metadata": {},
   "outputs": [
    {
     "data": {
      "text/html": [
       "<div>\n",
       "<style scoped>\n",
       "    .dataframe tbody tr th:only-of-type {\n",
       "        vertical-align: middle;\n",
       "    }\n",
       "\n",
       "    .dataframe tbody tr th {\n",
       "        vertical-align: top;\n",
       "    }\n",
       "\n",
       "    .dataframe thead th {\n",
       "        text-align: right;\n",
       "    }\n",
       "</style>\n",
       "<table border=\"1\" class=\"dataframe\">\n",
       "  <thead>\n",
       "    <tr style=\"text-align: right;\">\n",
       "      <th></th>\n",
       "      <th>Year</th>\n",
       "      <th>Country</th>\n",
       "      <th>Region</th>\n",
       "      <th>Crop_Type</th>\n",
       "      <th>Average_Temperature_C</th>\n",
       "      <th>Total_Precipitation_mm</th>\n",
       "      <th>CO2_Emissions_MT</th>\n",
       "      <th>Crop_Yield_MT_per_HA</th>\n",
       "      <th>Extreme_Weather_Events</th>\n",
       "      <th>Irrigation_Access_%</th>\n",
       "      <th>Pesticide_Use_KG_per_HA</th>\n",
       "      <th>Fertilizer_Use_KG_per_HA</th>\n",
       "      <th>Soil_Health_Index</th>\n",
       "      <th>Adaptation_Strategies</th>\n",
       "      <th>Economic_Impact_Million_USD</th>\n",
       "    </tr>\n",
       "  </thead>\n",
       "  <tbody>\n",
       "    <tr>\n",
       "      <th>0</th>\n",
       "      <td>2001</td>\n",
       "      <td>Brazil</td>\n",
       "      <td>Southeast</td>\n",
       "      <td>Rice</td>\n",
       "      <td>2.64</td>\n",
       "      <td>514.15</td>\n",
       "      <td>21.96</td>\n",
       "      <td>0.639</td>\n",
       "      <td>4</td>\n",
       "      <td>15.95</td>\n",
       "      <td>25.39</td>\n",
       "      <td>42.58</td>\n",
       "      <td>85.01</td>\n",
       "      <td>Drought-resistant Crops</td>\n",
       "      <td>116.07</td>\n",
       "    </tr>\n",
       "    <tr>\n",
       "      <th>1</th>\n",
       "      <td>1995</td>\n",
       "      <td>India</td>\n",
       "      <td>Punjab</td>\n",
       "      <td>Vegetables</td>\n",
       "      <td>13.98</td>\n",
       "      <td>1940.83</td>\n",
       "      <td>6.11</td>\n",
       "      <td>4.100</td>\n",
       "      <td>6</td>\n",
       "      <td>74.79</td>\n",
       "      <td>33.24</td>\n",
       "      <td>74.95</td>\n",
       "      <td>96.05</td>\n",
       "      <td>Drought-resistant Crops</td>\n",
       "      <td>1026.14</td>\n",
       "    </tr>\n",
       "    <tr>\n",
       "      <th>2</th>\n",
       "      <td>1996</td>\n",
       "      <td>Brazil</td>\n",
       "      <td>South</td>\n",
       "      <td>Rice</td>\n",
       "      <td>34.76</td>\n",
       "      <td>247.44</td>\n",
       "      <td>8.42</td>\n",
       "      <td>2.520</td>\n",
       "      <td>2</td>\n",
       "      <td>52.69</td>\n",
       "      <td>6.56</td>\n",
       "      <td>10.86</td>\n",
       "      <td>56.99</td>\n",
       "      <td>Water Management</td>\n",
       "      <td>837.28</td>\n",
       "    </tr>\n",
       "    <tr>\n",
       "      <th>3</th>\n",
       "      <td>1994</td>\n",
       "      <td>China</td>\n",
       "      <td>Central</td>\n",
       "      <td>Corn</td>\n",
       "      <td>19.10</td>\n",
       "      <td>2042.70</td>\n",
       "      <td>4.88</td>\n",
       "      <td>1.520</td>\n",
       "      <td>8</td>\n",
       "      <td>93.98</td>\n",
       "      <td>42.48</td>\n",
       "      <td>52.78</td>\n",
       "      <td>65.33</td>\n",
       "      <td>No Adaptation</td>\n",
       "      <td>369.90</td>\n",
       "    </tr>\n",
       "    <tr>\n",
       "      <th>4</th>\n",
       "      <td>2018</td>\n",
       "      <td>Nigeria</td>\n",
       "      <td>North Central</td>\n",
       "      <td>Vegetables</td>\n",
       "      <td>-2.34</td>\n",
       "      <td>2716.87</td>\n",
       "      <td>23.37</td>\n",
       "      <td>1.593</td>\n",
       "      <td>6</td>\n",
       "      <td>22.09</td>\n",
       "      <td>41.06</td>\n",
       "      <td>8.44</td>\n",
       "      <td>99.04</td>\n",
       "      <td>Drought-resistant Crops</td>\n",
       "      <td>555.35</td>\n",
       "    </tr>\n",
       "  </tbody>\n",
       "</table>\n",
       "</div>"
      ],
      "text/plain": [
       "   Year  Country         Region   Crop_Type  Average_Temperature_C  \\\n",
       "0  2001   Brazil      Southeast        Rice                   2.64   \n",
       "1  1995    India         Punjab  Vegetables                  13.98   \n",
       "2  1996   Brazil          South        Rice                  34.76   \n",
       "3  1994    China        Central        Corn                  19.10   \n",
       "4  2018  Nigeria  North Central  Vegetables                  -2.34   \n",
       "\n",
       "   Total_Precipitation_mm  CO2_Emissions_MT  Crop_Yield_MT_per_HA  \\\n",
       "0                  514.15             21.96                 0.639   \n",
       "1                 1940.83              6.11                 4.100   \n",
       "2                  247.44              8.42                 2.520   \n",
       "3                 2042.70              4.88                 1.520   \n",
       "4                 2716.87             23.37                 1.593   \n",
       "\n",
       "   Extreme_Weather_Events  Irrigation_Access_%  Pesticide_Use_KG_per_HA  \\\n",
       "0                       4                15.95                    25.39   \n",
       "1                       6                74.79                    33.24   \n",
       "2                       2                52.69                     6.56   \n",
       "3                       8                93.98                    42.48   \n",
       "4                       6                22.09                    41.06   \n",
       "\n",
       "   Fertilizer_Use_KG_per_HA  Soil_Health_Index    Adaptation_Strategies  \\\n",
       "0                     42.58              85.01  Drought-resistant Crops   \n",
       "1                     74.95              96.05  Drought-resistant Crops   \n",
       "2                     10.86              56.99         Water Management   \n",
       "3                     52.78              65.33            No Adaptation   \n",
       "4                      8.44              99.04  Drought-resistant Crops   \n",
       "\n",
       "   Economic_Impact_Million_USD  \n",
       "0                       116.07  \n",
       "1                      1026.14  \n",
       "2                       837.28  \n",
       "3                       369.90  \n",
       "4                       555.35  "
      ]
     },
     "execution_count": 49,
     "metadata": {},
     "output_type": "execute_result"
    }
   ],
   "source": [
    "df.head()"
   ]
  },
  {
   "cell_type": "markdown",
   "id": "71080b8f",
   "metadata": {},
   "source": [
    "The index has been successfully reset. "
   ]
  },
  {
   "cell_type": "markdown",
   "id": "713817b1",
   "metadata": {},
   "source": [
    "### Check for null values"
   ]
  },
  {
   "cell_type": "code",
   "execution_count": 50,
   "id": "80b5bdc3",
   "metadata": {},
   "outputs": [
    {
     "data": {
      "text/plain": [
       "Year                           0\n",
       "Country                        0\n",
       "Region                         0\n",
       "Crop_Type                      0\n",
       "Average_Temperature_C          0\n",
       "Total_Precipitation_mm         0\n",
       "CO2_Emissions_MT               0\n",
       "Crop_Yield_MT_per_HA           0\n",
       "Extreme_Weather_Events         0\n",
       "Irrigation_Access_%            0\n",
       "Pesticide_Use_KG_per_HA        0\n",
       "Fertilizer_Use_KG_per_HA       0\n",
       "Soil_Health_Index              0\n",
       "Adaptation_Strategies          0\n",
       "Economic_Impact_Million_USD    0\n",
       "dtype: int64"
      ]
     },
     "execution_count": 50,
     "metadata": {},
     "output_type": "execute_result"
    }
   ],
   "source": [
    "df.isnull().sum()"
   ]
  },
  {
   "cell_type": "markdown",
   "id": "00d609fb",
   "metadata": {},
   "source": [
    "There are no null values to remove or fill."
   ]
  },
  {
   "cell_type": "markdown",
   "id": "a6be2115",
   "metadata": {},
   "source": [
    "### Check the data types"
   ]
  },
  {
   "cell_type": "code",
   "execution_count": 51,
   "id": "fbd1eec8",
   "metadata": {},
   "outputs": [
    {
     "name": "stdout",
     "output_type": "stream",
     "text": [
      "<class 'pandas.core.frame.DataFrame'>\n",
      "RangeIndex: 9000 entries, 0 to 8999\n",
      "Data columns (total 15 columns):\n",
      " #   Column                       Non-Null Count  Dtype  \n",
      "---  ------                       --------------  -----  \n",
      " 0   Year                         9000 non-null   int64  \n",
      " 1   Country                      9000 non-null   object \n",
      " 2   Region                       9000 non-null   object \n",
      " 3   Crop_Type                    9000 non-null   object \n",
      " 4   Average_Temperature_C        9000 non-null   float64\n",
      " 5   Total_Precipitation_mm       9000 non-null   float64\n",
      " 6   CO2_Emissions_MT             9000 non-null   float64\n",
      " 7   Crop_Yield_MT_per_HA         9000 non-null   float64\n",
      " 8   Extreme_Weather_Events       9000 non-null   int64  \n",
      " 9   Irrigation_Access_%          9000 non-null   float64\n",
      " 10  Pesticide_Use_KG_per_HA      9000 non-null   float64\n",
      " 11  Fertilizer_Use_KG_per_HA     9000 non-null   float64\n",
      " 12  Soil_Health_Index            9000 non-null   float64\n",
      " 13  Adaptation_Strategies        9000 non-null   object \n",
      " 14  Economic_Impact_Million_USD  9000 non-null   float64\n",
      "dtypes: float64(9), int64(2), object(4)\n",
      "memory usage: 1.0+ MB\n"
     ]
    }
   ],
   "source": [
    "df.info()"
   ]
  },
  {
   "cell_type": "markdown",
   "id": "85f647fe",
   "metadata": {},
   "source": [
    "Most of the data types line up to what we would expect, however the Year column should be changed to date format."
   ]
  },
  {
   "cell_type": "markdown",
   "id": "29e0ff99",
   "metadata": {},
   "source": [
    "#### Convert year to date format"
   ]
  },
  {
   "cell_type": "code",
   "execution_count": 52,
   "id": "dd4b5488",
   "metadata": {},
   "outputs": [],
   "source": [
    "df['Year'] = pd.to_datetime(df['Year'], format='%Y')"
   ]
  },
  {
   "cell_type": "markdown",
   "id": "b9e249fe",
   "metadata": {},
   "source": [
    "#### Check the data types again"
   ]
  },
  {
   "cell_type": "code",
   "execution_count": 53,
   "id": "f44010d4",
   "metadata": {},
   "outputs": [
    {
     "data": {
      "text/plain": [
       "Year                           datetime64[ns]\n",
       "Country                                object\n",
       "Region                                 object\n",
       "Crop_Type                              object\n",
       "Average_Temperature_C                 float64\n",
       "Total_Precipitation_mm                float64\n",
       "CO2_Emissions_MT                      float64\n",
       "Crop_Yield_MT_per_HA                  float64\n",
       "Extreme_Weather_Events                  int64\n",
       "Irrigation_Access_%                   float64\n",
       "Pesticide_Use_KG_per_HA               float64\n",
       "Fertilizer_Use_KG_per_HA              float64\n",
       "Soil_Health_Index                     float64\n",
       "Adaptation_Strategies                  object\n",
       "Economic_Impact_Million_USD           float64\n",
       "dtype: object"
      ]
     },
     "execution_count": 53,
     "metadata": {},
     "output_type": "execute_result"
    }
   ],
   "source": [
    "df.dtypes"
   ]
  },
  {
   "cell_type": "markdown",
   "id": "9a5109e0",
   "metadata": {},
   "source": [
    "'Year' has succesffully been changed to datetime64[ns]."
   ]
  },
  {
   "cell_type": "markdown",
   "id": "0294e220",
   "metadata": {},
   "source": [
    "### Let's check the head of the data set again"
   ]
  },
  {
   "cell_type": "code",
   "execution_count": 54,
   "id": "4a54d2e6",
   "metadata": {},
   "outputs": [
    {
     "data": {
      "text/html": [
       "<div>\n",
       "<style scoped>\n",
       "    .dataframe tbody tr th:only-of-type {\n",
       "        vertical-align: middle;\n",
       "    }\n",
       "\n",
       "    .dataframe tbody tr th {\n",
       "        vertical-align: top;\n",
       "    }\n",
       "\n",
       "    .dataframe thead th {\n",
       "        text-align: right;\n",
       "    }\n",
       "</style>\n",
       "<table border=\"1\" class=\"dataframe\">\n",
       "  <thead>\n",
       "    <tr style=\"text-align: right;\">\n",
       "      <th></th>\n",
       "      <th>Year</th>\n",
       "      <th>Country</th>\n",
       "      <th>Region</th>\n",
       "      <th>Crop_Type</th>\n",
       "      <th>Average_Temperature_C</th>\n",
       "      <th>Total_Precipitation_mm</th>\n",
       "      <th>CO2_Emissions_MT</th>\n",
       "      <th>Crop_Yield_MT_per_HA</th>\n",
       "      <th>Extreme_Weather_Events</th>\n",
       "      <th>Irrigation_Access_%</th>\n",
       "      <th>Pesticide_Use_KG_per_HA</th>\n",
       "      <th>Fertilizer_Use_KG_per_HA</th>\n",
       "      <th>Soil_Health_Index</th>\n",
       "      <th>Adaptation_Strategies</th>\n",
       "      <th>Economic_Impact_Million_USD</th>\n",
       "    </tr>\n",
       "  </thead>\n",
       "  <tbody>\n",
       "    <tr>\n",
       "      <th>0</th>\n",
       "      <td>2001-01-01</td>\n",
       "      <td>Brazil</td>\n",
       "      <td>Southeast</td>\n",
       "      <td>Rice</td>\n",
       "      <td>2.64</td>\n",
       "      <td>514.15</td>\n",
       "      <td>21.96</td>\n",
       "      <td>0.639</td>\n",
       "      <td>4</td>\n",
       "      <td>15.95</td>\n",
       "      <td>25.39</td>\n",
       "      <td>42.58</td>\n",
       "      <td>85.01</td>\n",
       "      <td>Drought-resistant Crops</td>\n",
       "      <td>116.07</td>\n",
       "    </tr>\n",
       "    <tr>\n",
       "      <th>1</th>\n",
       "      <td>1995-01-01</td>\n",
       "      <td>India</td>\n",
       "      <td>Punjab</td>\n",
       "      <td>Vegetables</td>\n",
       "      <td>13.98</td>\n",
       "      <td>1940.83</td>\n",
       "      <td>6.11</td>\n",
       "      <td>4.100</td>\n",
       "      <td>6</td>\n",
       "      <td>74.79</td>\n",
       "      <td>33.24</td>\n",
       "      <td>74.95</td>\n",
       "      <td>96.05</td>\n",
       "      <td>Drought-resistant Crops</td>\n",
       "      <td>1026.14</td>\n",
       "    </tr>\n",
       "    <tr>\n",
       "      <th>2</th>\n",
       "      <td>1996-01-01</td>\n",
       "      <td>Brazil</td>\n",
       "      <td>South</td>\n",
       "      <td>Rice</td>\n",
       "      <td>34.76</td>\n",
       "      <td>247.44</td>\n",
       "      <td>8.42</td>\n",
       "      <td>2.520</td>\n",
       "      <td>2</td>\n",
       "      <td>52.69</td>\n",
       "      <td>6.56</td>\n",
       "      <td>10.86</td>\n",
       "      <td>56.99</td>\n",
       "      <td>Water Management</td>\n",
       "      <td>837.28</td>\n",
       "    </tr>\n",
       "    <tr>\n",
       "      <th>3</th>\n",
       "      <td>1994-01-01</td>\n",
       "      <td>China</td>\n",
       "      <td>Central</td>\n",
       "      <td>Corn</td>\n",
       "      <td>19.10</td>\n",
       "      <td>2042.70</td>\n",
       "      <td>4.88</td>\n",
       "      <td>1.520</td>\n",
       "      <td>8</td>\n",
       "      <td>93.98</td>\n",
       "      <td>42.48</td>\n",
       "      <td>52.78</td>\n",
       "      <td>65.33</td>\n",
       "      <td>No Adaptation</td>\n",
       "      <td>369.90</td>\n",
       "    </tr>\n",
       "    <tr>\n",
       "      <th>4</th>\n",
       "      <td>2018-01-01</td>\n",
       "      <td>Nigeria</td>\n",
       "      <td>North Central</td>\n",
       "      <td>Vegetables</td>\n",
       "      <td>-2.34</td>\n",
       "      <td>2716.87</td>\n",
       "      <td>23.37</td>\n",
       "      <td>1.593</td>\n",
       "      <td>6</td>\n",
       "      <td>22.09</td>\n",
       "      <td>41.06</td>\n",
       "      <td>8.44</td>\n",
       "      <td>99.04</td>\n",
       "      <td>Drought-resistant Crops</td>\n",
       "      <td>555.35</td>\n",
       "    </tr>\n",
       "  </tbody>\n",
       "</table>\n",
       "</div>"
      ],
      "text/plain": [
       "        Year  Country         Region   Crop_Type  Average_Temperature_C  \\\n",
       "0 2001-01-01   Brazil      Southeast        Rice                   2.64   \n",
       "1 1995-01-01    India         Punjab  Vegetables                  13.98   \n",
       "2 1996-01-01   Brazil          South        Rice                  34.76   \n",
       "3 1994-01-01    China        Central        Corn                  19.10   \n",
       "4 2018-01-01  Nigeria  North Central  Vegetables                  -2.34   \n",
       "\n",
       "   Total_Precipitation_mm  CO2_Emissions_MT  Crop_Yield_MT_per_HA  \\\n",
       "0                  514.15             21.96                 0.639   \n",
       "1                 1940.83              6.11                 4.100   \n",
       "2                  247.44              8.42                 2.520   \n",
       "3                 2042.70              4.88                 1.520   \n",
       "4                 2716.87             23.37                 1.593   \n",
       "\n",
       "   Extreme_Weather_Events  Irrigation_Access_%  Pesticide_Use_KG_per_HA  \\\n",
       "0                       4                15.95                    25.39   \n",
       "1                       6                74.79                    33.24   \n",
       "2                       2                52.69                     6.56   \n",
       "3                       8                93.98                    42.48   \n",
       "4                       6                22.09                    41.06   \n",
       "\n",
       "   Fertilizer_Use_KG_per_HA  Soil_Health_Index    Adaptation_Strategies  \\\n",
       "0                     42.58              85.01  Drought-resistant Crops   \n",
       "1                     74.95              96.05  Drought-resistant Crops   \n",
       "2                     10.86              56.99         Water Management   \n",
       "3                     52.78              65.33            No Adaptation   \n",
       "4                      8.44              99.04  Drought-resistant Crops   \n",
       "\n",
       "   Economic_Impact_Million_USD  \n",
       "0                       116.07  \n",
       "1                      1026.14  \n",
       "2                       837.28  \n",
       "3                       369.90  \n",
       "4                       555.35  "
      ]
     },
     "execution_count": 54,
     "metadata": {},
     "output_type": "execute_result"
    }
   ],
   "source": [
    "df.head()"
   ]
  },
  {
   "cell_type": "markdown",
   "id": "7c572658",
   "metadata": {},
   "source": [
    "There have been unintended consequences of converting to date time as every date is set to the 1st of January, rather than being the whole year as we would like."
   ]
  },
  {
   "cell_type": "markdown",
   "id": "73e8b230",
   "metadata": {},
   "source": [
    "### Convert 'Year' to only display 'Year'"
   ]
  },
  {
   "cell_type": "code",
   "execution_count": 55,
   "id": "6edf2638",
   "metadata": {},
   "outputs": [],
   "source": [
    "#copilot code suggestion: Convert 'Year' to just the year\n",
    "df['Year'] = df['Year'].dt.year"
   ]
  },
  {
   "cell_type": "markdown",
   "id": "e1db2e91",
   "metadata": {},
   "source": [
    "#### Check if it only displays 'Year'"
   ]
  },
  {
   "cell_type": "code",
   "execution_count": 56,
   "id": "6316728d",
   "metadata": {},
   "outputs": [
    {
     "data": {
      "text/html": [
       "<div>\n",
       "<style scoped>\n",
       "    .dataframe tbody tr th:only-of-type {\n",
       "        vertical-align: middle;\n",
       "    }\n",
       "\n",
       "    .dataframe tbody tr th {\n",
       "        vertical-align: top;\n",
       "    }\n",
       "\n",
       "    .dataframe thead th {\n",
       "        text-align: right;\n",
       "    }\n",
       "</style>\n",
       "<table border=\"1\" class=\"dataframe\">\n",
       "  <thead>\n",
       "    <tr style=\"text-align: right;\">\n",
       "      <th></th>\n",
       "      <th>Year</th>\n",
       "      <th>Country</th>\n",
       "      <th>Region</th>\n",
       "      <th>Crop_Type</th>\n",
       "      <th>Average_Temperature_C</th>\n",
       "      <th>Total_Precipitation_mm</th>\n",
       "      <th>CO2_Emissions_MT</th>\n",
       "      <th>Crop_Yield_MT_per_HA</th>\n",
       "      <th>Extreme_Weather_Events</th>\n",
       "      <th>Irrigation_Access_%</th>\n",
       "      <th>Pesticide_Use_KG_per_HA</th>\n",
       "      <th>Fertilizer_Use_KG_per_HA</th>\n",
       "      <th>Soil_Health_Index</th>\n",
       "      <th>Adaptation_Strategies</th>\n",
       "      <th>Economic_Impact_Million_USD</th>\n",
       "    </tr>\n",
       "  </thead>\n",
       "  <tbody>\n",
       "    <tr>\n",
       "      <th>0</th>\n",
       "      <td>2001</td>\n",
       "      <td>Brazil</td>\n",
       "      <td>Southeast</td>\n",
       "      <td>Rice</td>\n",
       "      <td>2.64</td>\n",
       "      <td>514.15</td>\n",
       "      <td>21.96</td>\n",
       "      <td>0.639</td>\n",
       "      <td>4</td>\n",
       "      <td>15.95</td>\n",
       "      <td>25.39</td>\n",
       "      <td>42.58</td>\n",
       "      <td>85.01</td>\n",
       "      <td>Drought-resistant Crops</td>\n",
       "      <td>116.07</td>\n",
       "    </tr>\n",
       "    <tr>\n",
       "      <th>1</th>\n",
       "      <td>1995</td>\n",
       "      <td>India</td>\n",
       "      <td>Punjab</td>\n",
       "      <td>Vegetables</td>\n",
       "      <td>13.98</td>\n",
       "      <td>1940.83</td>\n",
       "      <td>6.11</td>\n",
       "      <td>4.100</td>\n",
       "      <td>6</td>\n",
       "      <td>74.79</td>\n",
       "      <td>33.24</td>\n",
       "      <td>74.95</td>\n",
       "      <td>96.05</td>\n",
       "      <td>Drought-resistant Crops</td>\n",
       "      <td>1026.14</td>\n",
       "    </tr>\n",
       "    <tr>\n",
       "      <th>2</th>\n",
       "      <td>1996</td>\n",
       "      <td>Brazil</td>\n",
       "      <td>South</td>\n",
       "      <td>Rice</td>\n",
       "      <td>34.76</td>\n",
       "      <td>247.44</td>\n",
       "      <td>8.42</td>\n",
       "      <td>2.520</td>\n",
       "      <td>2</td>\n",
       "      <td>52.69</td>\n",
       "      <td>6.56</td>\n",
       "      <td>10.86</td>\n",
       "      <td>56.99</td>\n",
       "      <td>Water Management</td>\n",
       "      <td>837.28</td>\n",
       "    </tr>\n",
       "    <tr>\n",
       "      <th>3</th>\n",
       "      <td>1994</td>\n",
       "      <td>China</td>\n",
       "      <td>Central</td>\n",
       "      <td>Corn</td>\n",
       "      <td>19.10</td>\n",
       "      <td>2042.70</td>\n",
       "      <td>4.88</td>\n",
       "      <td>1.520</td>\n",
       "      <td>8</td>\n",
       "      <td>93.98</td>\n",
       "      <td>42.48</td>\n",
       "      <td>52.78</td>\n",
       "      <td>65.33</td>\n",
       "      <td>No Adaptation</td>\n",
       "      <td>369.90</td>\n",
       "    </tr>\n",
       "    <tr>\n",
       "      <th>4</th>\n",
       "      <td>2018</td>\n",
       "      <td>Nigeria</td>\n",
       "      <td>North Central</td>\n",
       "      <td>Vegetables</td>\n",
       "      <td>-2.34</td>\n",
       "      <td>2716.87</td>\n",
       "      <td>23.37</td>\n",
       "      <td>1.593</td>\n",
       "      <td>6</td>\n",
       "      <td>22.09</td>\n",
       "      <td>41.06</td>\n",
       "      <td>8.44</td>\n",
       "      <td>99.04</td>\n",
       "      <td>Drought-resistant Crops</td>\n",
       "      <td>555.35</td>\n",
       "    </tr>\n",
       "  </tbody>\n",
       "</table>\n",
       "</div>"
      ],
      "text/plain": [
       "   Year  Country         Region   Crop_Type  Average_Temperature_C  \\\n",
       "0  2001   Brazil      Southeast        Rice                   2.64   \n",
       "1  1995    India         Punjab  Vegetables                  13.98   \n",
       "2  1996   Brazil          South        Rice                  34.76   \n",
       "3  1994    China        Central        Corn                  19.10   \n",
       "4  2018  Nigeria  North Central  Vegetables                  -2.34   \n",
       "\n",
       "   Total_Precipitation_mm  CO2_Emissions_MT  Crop_Yield_MT_per_HA  \\\n",
       "0                  514.15             21.96                 0.639   \n",
       "1                 1940.83              6.11                 4.100   \n",
       "2                  247.44              8.42                 2.520   \n",
       "3                 2042.70              4.88                 1.520   \n",
       "4                 2716.87             23.37                 1.593   \n",
       "\n",
       "   Extreme_Weather_Events  Irrigation_Access_%  Pesticide_Use_KG_per_HA  \\\n",
       "0                       4                15.95                    25.39   \n",
       "1                       6                74.79                    33.24   \n",
       "2                       2                52.69                     6.56   \n",
       "3                       8                93.98                    42.48   \n",
       "4                       6                22.09                    41.06   \n",
       "\n",
       "   Fertilizer_Use_KG_per_HA  Soil_Health_Index    Adaptation_Strategies  \\\n",
       "0                     42.58              85.01  Drought-resistant Crops   \n",
       "1                     74.95              96.05  Drought-resistant Crops   \n",
       "2                     10.86              56.99         Water Management   \n",
       "3                     52.78              65.33            No Adaptation   \n",
       "4                      8.44              99.04  Drought-resistant Crops   \n",
       "\n",
       "   Economic_Impact_Million_USD  \n",
       "0                       116.07  \n",
       "1                      1026.14  \n",
       "2                       837.28  \n",
       "3                       369.90  \n",
       "4                       555.35  "
      ]
     },
     "execution_count": 56,
     "metadata": {},
     "output_type": "execute_result"
    }
   ],
   "source": [
    "df.head()"
   ]
  },
  {
   "cell_type": "markdown",
   "id": "10fee255",
   "metadata": {},
   "source": [
    "Only year is displayed, however we still need to check the data type to check if the code is running as expected."
   ]
  },
  {
   "cell_type": "markdown",
   "id": "d2fa6daa",
   "metadata": {},
   "source": [
    "### Check the data types again"
   ]
  },
  {
   "cell_type": "code",
   "execution_count": 57,
   "id": "5350a391",
   "metadata": {},
   "outputs": [
    {
     "data": {
      "text/plain": [
       "Year                             int32\n",
       "Country                         object\n",
       "Region                          object\n",
       "Crop_Type                       object\n",
       "Average_Temperature_C          float64\n",
       "Total_Precipitation_mm         float64\n",
       "CO2_Emissions_MT               float64\n",
       "Crop_Yield_MT_per_HA           float64\n",
       "Extreme_Weather_Events           int64\n",
       "Irrigation_Access_%            float64\n",
       "Pesticide_Use_KG_per_HA        float64\n",
       "Fertilizer_Use_KG_per_HA       float64\n",
       "Soil_Health_Index              float64\n",
       "Adaptation_Strategies           object\n",
       "Economic_Impact_Million_USD    float64\n",
       "dtype: object"
      ]
     },
     "execution_count": 57,
     "metadata": {},
     "output_type": "execute_result"
    }
   ],
   "source": [
    "df.dtypes"
   ]
  },
  {
   "cell_type": "markdown",
   "id": "f0c521e7",
   "metadata": {},
   "source": [
    "It has not been successful and has switched back to a integer, however it is not int64 but rather 32 bit. This should be fine for our current dataset, however after some online investigations we discovered we could run into [problems in 2038](https://en.wikipedia.org/wiki/Year_2038_problem) with a 32 bit integer if other analysts decided to add full dates including months and days. So in order to future proof our work we will convert back to int64. Storing year as an integer should not impact the data analysis."
   ]
  },
  {
   "cell_type": "markdown",
   "id": "115be4c0",
   "metadata": {},
   "source": [
    "### Convert 'Year' back to int64"
   ]
  },
  {
   "cell_type": "code",
   "execution_count": 59,
   "id": "e276b5df",
   "metadata": {},
   "outputs": [],
   "source": [
    "# convert 'Year' to be int64\n",
    "df['Year'] = df['Year'].astype('int64')"
   ]
  },
  {
   "cell_type": "markdown",
   "id": "82847e51",
   "metadata": {},
   "source": [
    "#### Check the data types and df head again to confirm changes"
   ]
  },
  {
   "cell_type": "code",
   "execution_count": 61,
   "id": "f2a8b842",
   "metadata": {},
   "outputs": [
    {
     "data": {
      "text/plain": [
       "Year                             int64\n",
       "Country                         object\n",
       "Region                          object\n",
       "Crop_Type                       object\n",
       "Average_Temperature_C          float64\n",
       "Total_Precipitation_mm         float64\n",
       "CO2_Emissions_MT               float64\n",
       "Crop_Yield_MT_per_HA           float64\n",
       "Extreme_Weather_Events           int64\n",
       "Irrigation_Access_%            float64\n",
       "Pesticide_Use_KG_per_HA        float64\n",
       "Fertilizer_Use_KG_per_HA       float64\n",
       "Soil_Health_Index              float64\n",
       "Adaptation_Strategies           object\n",
       "Economic_Impact_Million_USD    float64\n",
       "dtype: object"
      ]
     },
     "execution_count": 61,
     "metadata": {},
     "output_type": "execute_result"
    }
   ],
   "source": [
    "df.dtypes"
   ]
  },
  {
   "cell_type": "code",
   "execution_count": 62,
   "id": "9c81f3f5",
   "metadata": {},
   "outputs": [
    {
     "data": {
      "text/html": [
       "<div>\n",
       "<style scoped>\n",
       "    .dataframe tbody tr th:only-of-type {\n",
       "        vertical-align: middle;\n",
       "    }\n",
       "\n",
       "    .dataframe tbody tr th {\n",
       "        vertical-align: top;\n",
       "    }\n",
       "\n",
       "    .dataframe thead th {\n",
       "        text-align: right;\n",
       "    }\n",
       "</style>\n",
       "<table border=\"1\" class=\"dataframe\">\n",
       "  <thead>\n",
       "    <tr style=\"text-align: right;\">\n",
       "      <th></th>\n",
       "      <th>Year</th>\n",
       "      <th>Country</th>\n",
       "      <th>Region</th>\n",
       "      <th>Crop_Type</th>\n",
       "      <th>Average_Temperature_C</th>\n",
       "      <th>Total_Precipitation_mm</th>\n",
       "      <th>CO2_Emissions_MT</th>\n",
       "      <th>Crop_Yield_MT_per_HA</th>\n",
       "      <th>Extreme_Weather_Events</th>\n",
       "      <th>Irrigation_Access_%</th>\n",
       "      <th>Pesticide_Use_KG_per_HA</th>\n",
       "      <th>Fertilizer_Use_KG_per_HA</th>\n",
       "      <th>Soil_Health_Index</th>\n",
       "      <th>Adaptation_Strategies</th>\n",
       "      <th>Economic_Impact_Million_USD</th>\n",
       "    </tr>\n",
       "  </thead>\n",
       "  <tbody>\n",
       "    <tr>\n",
       "      <th>0</th>\n",
       "      <td>2001</td>\n",
       "      <td>Brazil</td>\n",
       "      <td>Southeast</td>\n",
       "      <td>Rice</td>\n",
       "      <td>2.64</td>\n",
       "      <td>514.15</td>\n",
       "      <td>21.96</td>\n",
       "      <td>0.639</td>\n",
       "      <td>4</td>\n",
       "      <td>15.95</td>\n",
       "      <td>25.39</td>\n",
       "      <td>42.58</td>\n",
       "      <td>85.01</td>\n",
       "      <td>Drought-resistant Crops</td>\n",
       "      <td>116.07</td>\n",
       "    </tr>\n",
       "  </tbody>\n",
       "</table>\n",
       "</div>"
      ],
      "text/plain": [
       "   Year Country     Region Crop_Type  Average_Temperature_C  \\\n",
       "0  2001  Brazil  Southeast      Rice                   2.64   \n",
       "\n",
       "   Total_Precipitation_mm  CO2_Emissions_MT  Crop_Yield_MT_per_HA  \\\n",
       "0                  514.15             21.96                 0.639   \n",
       "\n",
       "   Extreme_Weather_Events  Irrigation_Access_%  Pesticide_Use_KG_per_HA  \\\n",
       "0                       4                15.95                    25.39   \n",
       "\n",
       "   Fertilizer_Use_KG_per_HA  Soil_Health_Index    Adaptation_Strategies  \\\n",
       "0                     42.58              85.01  Drought-resistant Crops   \n",
       "\n",
       "   Economic_Impact_Million_USD  \n",
       "0                       116.07  "
      ]
     },
     "execution_count": 62,
     "metadata": {},
     "output_type": "execute_result"
    }
   ],
   "source": [
    "df.head(1)"
   ]
  },
  {
   "cell_type": "markdown",
   "id": "114e46ee",
   "metadata": {},
   "source": [
    "The code has been successful and we can move on from the data types"
   ]
  },
  {
   "cell_type": "markdown",
   "id": "766e819e",
   "metadata": {},
   "source": [
    "### Check the object variables for any errors"
   ]
  },
  {
   "cell_type": "markdown",
   "id": "4dab4a84",
   "metadata": {},
   "source": [
    "#### Country"
   ]
  },
  {
   "cell_type": "code",
   "execution_count": 64,
   "id": "9c16785c",
   "metadata": {},
   "outputs": [
    {
     "data": {
      "text/plain": [
       "array(['Brazil', 'India', 'China', 'Nigeria', 'France', 'Australia',\n",
       "       'Argentina', 'Russia', 'Canada', 'USA'], dtype=object)"
      ]
     },
     "execution_count": 64,
     "metadata": {},
     "output_type": "execute_result"
    }
   ],
   "source": [
    "df['Country'].unique()"
   ]
  },
  {
   "cell_type": "markdown",
   "id": "2af6fd4e",
   "metadata": {},
   "source": [
    "There are no errors for the Country variable"
   ]
  },
  {
   "cell_type": "markdown",
   "id": "5c068b93",
   "metadata": {},
   "source": [
    "#### Region"
   ]
  },
  {
   "cell_type": "code",
   "execution_count": 65,
   "id": "a65158c3",
   "metadata": {},
   "outputs": [
    {
     "data": {
      "text/plain": [
       "array(['Southeast', 'Punjab', 'South', 'Central', 'North Central',\n",
       "       'Provence-Alpes-Cote d’Azur', 'Victoria', 'South East',\n",
       "       'Northwest', 'New South Wales', 'Volga', 'Ile-de-France',\n",
       "       'Tamil Nadu', 'Maharashtra', 'Patagonia', 'South West', 'Prairies',\n",
       "       'Nouvelle-Aquitaine', 'Siberian', 'North', 'West Bengal', 'Pampas',\n",
       "       'Quebec', 'Grand Est', 'Northeast', 'Queensland', 'North West',\n",
       "       'Ontario', 'Midwest', 'British Columbia', 'Western Australia',\n",
       "       'East', 'Northwestern', 'West'], dtype=object)"
      ]
     },
     "execution_count": 65,
     "metadata": {},
     "output_type": "execute_result"
    }
   ],
   "source": [
    "df['Region'].unique()"
   ]
  },
  {
   "cell_type": "markdown",
   "id": "6cb9c6ad",
   "metadata": {},
   "source": [
    "There are issues with some of the regions for example there is both 'Southeast' and 'South East' and 'Northwestern' and 'North West'."
   ]
  },
  {
   "cell_type": "markdown",
   "id": "6ed31768",
   "metadata": {},
   "source": [
    "#### Fix the Region names"
   ]
  },
  {
   "cell_type": "code",
   "execution_count": 66,
   "id": "54358d35",
   "metadata": {},
   "outputs": [],
   "source": [
    "df.replace({'Region':{'Southeast': 'South East', 'Northwestern': 'North West', 'Northwest': 'North West'}}, inplace=True)"
   ]
  },
  {
   "cell_type": "markdown",
   "id": "48c31121",
   "metadata": {},
   "source": [
    "#### Check the Region names again"
   ]
  },
  {
   "cell_type": "code",
   "execution_count": 67,
   "id": "1df40497",
   "metadata": {},
   "outputs": [
    {
     "data": {
      "text/plain": [
       "array(['South East', 'Punjab', 'South', 'Central', 'North Central',\n",
       "       'Provence-Alpes-Cote d’Azur', 'Victoria', 'North West',\n",
       "       'New South Wales', 'Volga', 'Ile-de-France', 'Tamil Nadu',\n",
       "       'Maharashtra', 'Patagonia', 'South West', 'Prairies',\n",
       "       'Nouvelle-Aquitaine', 'Siberian', 'North', 'West Bengal', 'Pampas',\n",
       "       'Quebec', 'Grand Est', 'Northeast', 'Queensland', 'Ontario',\n",
       "       'Midwest', 'British Columbia', 'Western Australia', 'East', 'West'],\n",
       "      dtype=object)"
      ]
     },
     "execution_count": 67,
     "metadata": {},
     "output_type": "execute_result"
    }
   ],
   "source": [
    "df['Region'].unique()"
   ]
  },
  {
   "cell_type": "markdown",
   "id": "6737feee",
   "metadata": {},
   "source": [
    "Region names have been cleaned."
   ]
  },
  {
   "cell_type": "markdown",
   "id": "27d0426d",
   "metadata": {},
   "source": [
    "#### Check the Crop Type names"
   ]
  },
  {
   "cell_type": "code",
   "execution_count": 68,
   "id": "a3d6e7aa",
   "metadata": {},
   "outputs": [
    {
     "data": {
      "text/plain": [
       "array(['Rice', 'Vegetables', 'Corn', 'Barley', 'Coffee', 'Soybeans',\n",
       "       'Wheat', 'Fruits', 'Cotton', 'Sugarcane'], dtype=object)"
      ]
     },
     "execution_count": 68,
     "metadata": {},
     "output_type": "execute_result"
    }
   ],
   "source": [
    "df['Crop_Type'].unique()"
   ]
  },
  {
   "cell_type": "markdown",
   "id": "7881bbc2",
   "metadata": {},
   "source": [
    "All crop names are correct."
   ]
  },
  {
   "cell_type": "markdown",
   "id": "21280ade",
   "metadata": {},
   "source": [
    "#### Check Adaptation Strategies"
   ]
  },
  {
   "cell_type": "code",
   "execution_count": 70,
   "id": "b0b45ddd",
   "metadata": {},
   "outputs": [
    {
     "data": {
      "text/plain": [
       "array(['Drought-resistant Crops', 'Water Management', 'No Adaptation',\n",
       "       'Crop Rotation', 'Organic Farming'], dtype=object)"
      ]
     },
     "execution_count": 70,
     "metadata": {},
     "output_type": "execute_result"
    }
   ],
   "source": [
    "df['Adaptation_Strategies'].unique()"
   ]
  },
  {
   "cell_type": "markdown",
   "id": "88840ffb",
   "metadata": {},
   "source": [
    "Adaptation Strategies are all correct. "
   ]
  }
 ],
 "metadata": {
  "kernelspec": {
   "display_name": ".venv",
   "language": "python",
   "name": "python3"
  },
  "language_info": {
   "codemirror_mode": {
    "name": "ipython",
    "version": 3
   },
   "file_extension": ".py",
   "mimetype": "text/x-python",
   "name": "python",
   "nbconvert_exporter": "python",
   "pygments_lexer": "ipython3",
   "version": "3.12.10"
  }
 },
 "nbformat": 4,
 "nbformat_minor": 5
}
