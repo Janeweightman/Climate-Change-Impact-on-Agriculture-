{
 "cells": [
  {
   "cell_type": "markdown",
   "id": "2c2cde6d",
   "metadata": {},
   "source": [
    "# Python Data Visualisations"
   ]
  },
  {
   "cell_type": "markdown",
   "id": "83eb099f",
   "metadata": {},
   "source": [
    "This project features a full dashboard in Tableau, however we will create some initial visualisation in python for Exploratory Data Analysis (EDA)."
   ]
  },
  {
   "cell_type": "markdown",
   "id": "d868ef44",
   "metadata": {},
   "source": [
    "### First import the required libraries"
   ]
  },
  {
   "cell_type": "code",
   "execution_count": 1,
   "id": "1d7558fa",
   "metadata": {},
   "outputs": [],
   "source": [
    "import pandas as pd\n",
    "import numpy as np\n",
    "import matplotlib.pyplot as plt\n",
    "import seaborn as sns\n",
    "import plotly.express as px"
   ]
  }
 ],
 "metadata": {
  "kernelspec": {
   "display_name": ".venv",
   "language": "python",
   "name": "python3"
  },
  "language_info": {
   "codemirror_mode": {
    "name": "ipython",
    "version": 3
   },
   "file_extension": ".py",
   "mimetype": "text/x-python",
   "name": "python",
   "nbconvert_exporter": "python",
   "pygments_lexer": "ipython3",
   "version": "3.12.10"
  }
 },
 "nbformat": 4,
 "nbformat_minor": 5
}
